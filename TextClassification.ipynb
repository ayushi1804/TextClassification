{
 "cells": [
  {
   "cell_type": "code",
   "execution_count": 90,
   "metadata": {},
   "outputs": [],
   "source": [
    "import os\n",
    "from nltk.corpus import stopwords\n",
    "from nltk.tokenize import RegexpTokenizer\n",
    "import numpy as np\n",
    "from sklearn import model_selection\n",
    "import sys"
   ]
  },
  {
   "cell_type": "code",
   "execution_count": 2,
   "metadata": {},
   "outputs": [],
   "source": [
    "dic={}\n",
    "#tokenizer to remove all the punctuation and breaking the string into words\n",
    "tokenizer = RegexpTokenizer(r'\\w+')\n",
    "#set of all the english stopwords\n",
    "stop_words = set(stopwords.words('english'))"
   ]
  },
  {
   "cell_type": "code",
   "execution_count": 3,
   "metadata": {},
   "outputs": [],
   "source": [
    "#simply adding in dictionary\n",
    "def add_to_dic(filtrd):\n",
    "    for l in filtrd:\n",
    "        #if already prsent simply increment\n",
    "        if l in dic:\n",
    "            dic[l]=dic[l]+1\n",
    "        #else initialise\n",
    "        else:\n",
    "            dic[l]=1\n",
    "    return"
   ]
  },
  {
   "cell_type": "code",
   "execution_count": 4,
   "metadata": {},
   "outputs": [],
   "source": [
    "#For the file given at this path\n",
    "#I am simply reading the file and \n",
    "#removing stopwords and punctuation\n",
    "def op_on_files(path):\n",
    "    \n",
    "    file= open(path,'r')\n",
    "    st= file.read()\n",
    "    #Removing punctuation and converting the string to a list of words\n",
    "    strng=tokenizer.tokenize(st)\n",
    "    #removing stopwords\n",
    "    filtrd = [w for w in strng if not w in stop_words]\n",
    "    \n",
    "    #adding the words in dictionary\n",
    "    add_to_dic(filtrd)\n",
    "    return"
   ]
  },
  {
   "cell_type": "code",
   "execution_count": 5,
   "metadata": {},
   "outputs": [],
   "source": [
    "#in this function I am simply traversing the list of files and\n",
    "#calling op_on_files on each individual file \n",
    "def fun(files,root):\n",
    "    for f in files:\n",
    "        #I have done this because I have saved this project file\n",
    "        #in the same directory where all these text files are stored\n",
    "        #so for once *files* will contain a single file i.e. this ipynb file\n",
    "        #so to avoid this file I have done this\n",
    "        if f.endswith(\"ipynb\"):\n",
    "            continue\n",
    "                \n",
    "        #path for each file\n",
    "        path= root+\"/\"+f\n",
    "        #further calling for performing operations on each file\n",
    "        op_on_files(path)\n",
    "    return"
   ]
  },
  {
   "cell_type": "code",
   "execution_count": 6,
   "metadata": {},
   "outputs": [],
   "source": [
    "#by using os.walk traversing the files directory\n",
    "#calling the function fun() to do the required operations on each file\n",
    "#here *files* is a list of files in each directory\n",
    "#root is a string\n",
    "for root, dirs, files in os.walk(\"./\", topdown=True):\n",
    "    fun(files,root)"
   ]
  },
  {
   "cell_type": "code",
   "execution_count": 7,
   "metadata": {},
   "outputs": [
    {
     "data": {
      "text/plain": [
       "244731"
      ]
     },
     "execution_count": 7,
     "metadata": {},
     "output_type": "execute_result"
    }
   ],
   "source": [
    "len(dic.keys())"
   ]
  },
  {
   "cell_type": "code",
   "execution_count": 10,
   "metadata": {},
   "outputs": [],
   "source": [
    "#as dictionaries cannot be sorted I am converting it into a list *d*\n",
    "#this list contains 2 columns, first the count then the word\n",
    "k= dic.keys()\n",
    "d=[]\n",
    "for i in k:\n",
    "    d.append([dic[i],i])\n",
    "    \n",
    "#sorting the list\n",
    "d= sorted(d, reverse=True)"
   ]
  },
  {
   "cell_type": "code",
   "execution_count": 11,
   "metadata": {},
   "outputs": [],
   "source": [
    "y= list(dic.values())\n",
    "x= list(range(len(dic.keys())))"
   ]
  },
  {
   "cell_type": "code",
   "execution_count": 13,
   "metadata": {},
   "outputs": [
    {
     "data": {
      "image/png": "[encoded data removed]",
      "text/plain": [
       "<Figure size 432x288 with 1 Axes>"
      ]
     },
     "metadata": {},
     "output_type": "display_data"
    }
   ],
   "source": [
    "#plotting the points to decide how many points to take in our vocab\n",
    "import matplotlib.pyplot as plt\n",
    "plt.scatter(x,y)\n",
    "#plt.axis([0,4000,0,60000])\n",
    "plt.show()"
   ]
  },
  {
   "cell_type": "code",
   "execution_count": 15,
   "metadata": {},
   "outputs": [
    {
     "data": {
      "text/plain": [
       "2000"
      ]
     },
     "execution_count": 15,
     "metadata": {},
     "output_type": "execute_result"
    }
   ],
   "source": [
    "#features contains the final set of 2000 words that will be our vocab\n",
    "features=[]\n",
    "for i in range(0,2000):\n",
    "    features.append(d[i][1])\n",
    "len(features)"
   ]
  },
  {
   "cell_type": "code",
   "execution_count": 28,
   "metadata": {},
   "outputs": [],
   "source": [
    "#simply adding the string filtered words in X if they are in our vocab i.e. *features*\n",
    "#here j is the row index\n",
    "def addToX(filtered,features,j,X):\n",
    "    for s in filtered:\n",
    "        if s in features:\n",
    "            id= features.index(s)\n",
    "            X[j][id]= X[j][id]+1\n",
    "    return X"
   ]
  },
  {
   "cell_type": "code",
   "execution_count": null,
   "metadata": {},
   "outputs": [],
   "source": [
    "#Again for each file in files\n",
    "#I am simply reading the file and \n",
    "#removing stopwords and punctuation\n",
    "def file_to_X(files,X,features,root,j):\n",
    "    \n",
    "    for f in files:\n",
    "        path= root+'/'+f\n",
    "        fle= open(path,'r')\n",
    "        st= fle.read()\n",
    "        strng=tokenizer.tokenize(st)\n",
    "        filtrd = [w for w in strng if not w in stop_words]\n",
    "        \n",
    "        #Then I am adding the final list of words to X\n",
    "        X=addToX(filtrd,features,j,X)\n",
    "        #this is to keep track of the row nmber in X\n",
    "        j=j+1\n",
    "        #print(X.shape, x.shape)\n",
    "    return X"
   ]
  },
  {
   "cell_type": "code",
   "execution_count": 59,
   "metadata": {},
   "outputs": [],
   "source": [
    "#making our data array\n",
    "def setIntoXForm(X, features):\n",
    "    #i is simply to keep track on which class\n",
    "    i=-1    \n",
    "    #traversing the files directory\n",
    "    for root, dirs, files in os.walk(\"./\", topdown=True):\n",
    "        #I have done this because I have saved this project file\n",
    "        #in the same directory where all these text files are stored\n",
    "        #so for once *files* will contain a single file i.e. this ipynb file\n",
    "        #so to avoid this file I have done this\n",
    "        if len(files)==1:\n",
    "            continue\n",
    "        \n",
    "        i+=1\n",
    "        X=file_to_X(files,X,features,root,1000*i)\n",
    "    return X"
   ]
  },
  {
   "cell_type": "code",
   "execution_count": 44,
   "metadata": {},
   "outputs": [],
   "source": [
    "#initialising data array and then calling setIntoXForm function\n",
    "data= np.zeros([20000,2000])\n",
    "data= setIntoXForm(data, features)"
   ]
  },
  {
   "cell_type": "code",
   "execution_count": 47,
   "metadata": {},
   "outputs": [],
   "source": [
    "#Y is the output array\n",
    "Y= np.zeros(20000)"
   ]
  },
  {
   "cell_type": "code",
   "execution_count": 48,
   "metadata": {},
   "outputs": [],
   "source": [
    "#Y contains 1000 1's, 1000 2's upto.... 1000 19's just to represent the output classes\n",
    "for i in range(20):\n",
    "    for j in range(1000):\n",
    "        Y[(i*1000)+j]=i"
   ]
  },
  {
   "cell_type": "code",
   "execution_count": 81,
   "metadata": {},
   "outputs": [],
   "source": [
    "X_train, X_test, Y_train, Y_test= model_selection.train_test_split(data, Y)"
   ]
  },
  {
   "cell_type": "code",
   "execution_count": 83,
   "metadata": {},
   "outputs": [],
   "source": [
    "X_train.shape, X_test.shape\n",
    "n= X_train.shape[1]"
   ]
  },
  {
   "cell_type": "code",
   "execution_count": 172,
   "metadata": {},
   "outputs": [
    {
     "data": {
      "text/plain": [
       "(753, 2000)"
      ]
     },
     "execution_count": 172,
     "metadata": {},
     "output_type": "execute_result"
    }
   ],
   "source": [
    "X_train[Y_train==0].shape"
   ]
  },
  {
   "cell_type": "code",
   "execution_count": 194,
   "metadata": {},
   "outputs": [],
   "source": [
    "#Creating the vocab dictionary \n",
    "vocab={}\n",
    "classes= [x for x in range(0,20)]\n",
    "#Traversing in all classes from 0 to 19\n",
    "for c in classes:\n",
    "    vocab[c]={}\n",
    "    #Taking out the rows that belong to class c\n",
    "    X_x= X_train[Y_train==c]\n",
    "    vocab[c][\"total\"]= X_x.sum()\n",
    "    #print(vocab[c][\"total\"], X_x.sum())\n",
    "    #For the class c traversing in all the features and computing the values\n",
    "    for f in range(len(features)):   \n",
    "        vocab[c][f]= X_x[:,f].sum()"
   ]
  },
  {
   "cell_type": "code",
   "execution_count": 251,
   "metadata": {},
   "outputs": [],
   "source": [
    "#Traversing on all the features and adding the log probabilities\n",
    "def find_prob(X,c):\n",
    "    p=0\n",
    "    total_features= len(features)\n",
    "    #Looping over all the features and adding the log probablities of each feature\n",
    "    #probabilty of each feature will be that word count in that class divided by total word count\n",
    "    #also included laplace correction\n",
    "    for f in range(total_features):\n",
    "        #Mulitiplying X[f] for more accurate results\n",
    "        #No need to check whether X[f] is 0 or not as for zero , the whole probability will be zero\n",
    "        p=p+ X[f]*np.log((vocab[c][f]+1)/(vocab[c][\"total\"]+total_features))\n",
    "    return p"
   ]
  },
  {
   "cell_type": "code",
   "execution_count": 229,
   "metadata": {},
   "outputs": [],
   "source": [
    "#For a given row in X_test finding the maximum probability among all the classes\n",
    "def predict_X(X):\n",
    "    #initialising max_prb with a minimum value\n",
    "    max_prb= -sys.maxsize -1\n",
    "    #i will store the result\n",
    "    i=-1\n",
    "    for c in classes:\n",
    "        prob= find_prob(X,c)\n",
    "        if prob>max_prb:\n",
    "            max_prb=prob\n",
    "            i= c\n",
    "    return i"
   ]
  },
  {
   "cell_type": "code",
   "execution_count": 118,
   "metadata": {},
   "outputs": [],
   "source": [
    "#For all the test points calculating y-predicted\n",
    "def pred(X_test):\n",
    "    y_pred=np.zeros(X_test.shape[0])\n",
    "    for i in range(X_test.shape[0]):\n",
    "        y_pred[i]= predict_X(X_test[i])\n",
    "    return y_pred"
   ]
  },
  {
   "cell_type": "code",
   "execution_count": 263,
   "metadata": {},
   "outputs": [
    {
     "data": {
      "text/plain": [
       "array([4., 8., 0., ..., 7., 3., 7.])"
      ]
     },
     "execution_count": 263,
     "metadata": {},
     "output_type": "execute_result"
    }
   ],
   "source": [
    "y_pred= pred(X_test)\n",
    "y_pred"
   ]
  },
  {
   "cell_type": "code",
   "execution_count": 265,
   "metadata": {},
   "outputs": [
    {
     "name": "stdout",
     "output_type": "stream",
     "text": [
      "[[189   0   0   0   0   0   2   5   4   1   0   0   2   3   1   0   1   1\n",
      "    0  38]\n",
      " [  0 185   0  16  24   4   8   1   0   0   0   2   7   3   0   0   0   0\n",
      "    0   0]\n",
      " [  0  24  14 135  21  42   9   3   0   0   0   0  11   2   0   0   0   0\n",
      "    0   0]\n",
      " [  0   2   0 221  18   1   6   0   0   0   0   0   1   0   0   0   0   0\n",
      "    0   0]\n",
      " [  0   4   1  12 231   1   6   0   0   0   0   0   0   0   0   0   0   0\n",
      "    0   0]\n",
      " [  0  26   1  13   8 205   3   2   0   0   0   1   6   0   3   0   0   1\n",
      "    0   0]\n",
      " [  0   1   0   1   4   0 206   8   2   1   0   0   3   0   0   0   0   0\n",
      "    0   1]\n",
      " [  0   0   0   1   1   0  10 227   9   1   0   0   8   0   0   0   0   0\n",
      "    0   0]\n",
      " [  0   1   0   0   0   0   5   8 236   1   0   0   0   0   0   0   0   0\n",
      "    0   0]\n",
      " [  0   0   0   0   0   0   1   3   7 214   8   0   0   0   1   0   0   0\n",
      "    0   0]\n",
      " [  0   0   0   0   1   0   1   6   4  50 187   0   1   0   1   0   0   0\n",
      "    1   0]\n",
      " [  1   0   0   1   0   2   0   0   0   0   0 248   8   3   0   0   2   0\n",
      "    0   0]\n",
      " [  0   3   0   4   5   0   8   5   0   0   0   0 219   1   2   0   0   0\n",
      "    0   0]\n",
      " [  0   2   0   0   2   0   1   5   2   0   0   0  11 227   1   0   0   0\n",
      "    2   0]\n",
      " [  0   4   0   1   0   1   1   0   2   0   1   2  15   1 220   0   0   0\n",
      "    1   0]\n",
      " [  2   0   0   0   0   0   0   0   0   0   0   0   1   0   0 236   0   0\n",
      "    0   0]\n",
      " [  0   0   0   0   0   0   0   1   5   0   0   1   0   0   1   0 222   1\n",
      "    8   9]\n",
      " [  0   0   0   0   3   0   3   4   1   1   0   1   1   0   1   0   9 211\n",
      "   21   3]\n",
      " [  0   0   0   0   0   0   2   1   0   0   1   1   0   0   6   1  38   7\n",
      "  178  26]\n",
      " [ 46   0   0   0   0   0   5   0   1   0   0   0   1   0   1   1  15   2\n",
      "   19 136]]\n",
      "             precision    recall  f1-score   support\n",
      "\n",
      "        0.0       0.79      0.77      0.78       247\n",
      "        1.0       0.73      0.74      0.74       250\n",
      "        2.0       0.88      0.05      0.10       261\n",
      "        3.0       0.55      0.89      0.68       249\n",
      "        4.0       0.73      0.91      0.81       255\n",
      "        5.0       0.80      0.76      0.78       269\n",
      "        6.0       0.74      0.91      0.82       227\n",
      "        7.0       0.81      0.88      0.85       257\n",
      "        8.0       0.86      0.94      0.90       251\n",
      "        9.0       0.80      0.91      0.85       234\n",
      "       10.0       0.95      0.74      0.83       252\n",
      "       11.0       0.97      0.94      0.95       265\n",
      "       12.0       0.74      0.89      0.81       247\n",
      "       13.0       0.95      0.90      0.92       253\n",
      "       14.0       0.92      0.88      0.90       249\n",
      "       15.0       0.99      0.99      0.99       239\n",
      "       16.0       0.77      0.90      0.83       248\n",
      "       17.0       0.95      0.81      0.88       259\n",
      "       18.0       0.77      0.68      0.73       261\n",
      "       19.0       0.64      0.60      0.62       227\n",
      "\n",
      "avg / total       0.82      0.80      0.79      5000\n",
      "\n"
     ]
    }
   ],
   "source": [
    "#Print the classification Report of predicted results\n",
    "from sklearn.metrics import classification_report\n",
    "from sklearn.metrics import confusion_matrix\n",
    "print(confusion_matrix(Y_test, y_pred))\n",
    "print(classification_report(Y_test, y_pred))"
   ]
  },
  {
   "cell_type": "code",
   "execution_count": 266,
   "metadata": {},
   "outputs": [
    {
     "data": {
      "text/plain": [
       "MultinomialNB(alpha=1.0, class_prior=None, fit_prior=True)"
      ]
     },
     "execution_count": 266,
     "metadata": {},
     "output_type": "execute_result"
    }
   ],
   "source": [
    "#making an object of inbuilt multinomial naive bayes\n",
    "#an fitting our data\n",
    "from sklearn.naive_bayes import MultinomialNB\n",
    "clf = MultinomialNB()\n",
    "clf.fit(X_train, Y_train)"
   ]
  },
  {
   "cell_type": "code",
   "execution_count": 267,
   "metadata": {},
   "outputs": [
    {
     "data": {
      "text/plain": [
       "array([ 4.,  8.,  0., 17.,  3.,  4., 11.,  7., 19., 17., 11.])"
      ]
     },
     "execution_count": 267,
     "metadata": {},
     "output_type": "execute_result"
    }
   ],
   "source": [
    "#storing the predicted results in Y_pred_inbuilt\n",
    "Y_pred_inbuilt= clf.predict(X_test)\n",
    "Y_pred_inbuilt[0:11]"
   ]
  },
  {
   "cell_type": "code",
   "execution_count": 268,
   "metadata": {},
   "outputs": [
    {
     "data": {
      "text/plain": [
       "0.8022"
      ]
     },
     "execution_count": 268,
     "metadata": {},
     "output_type": "execute_result"
    }
   ],
   "source": [
    "clf.score(X_test, Y_test)"
   ]
  },
  {
   "cell_type": "code",
   "execution_count": 269,
   "metadata": {},
   "outputs": [
    {
     "name": "stdout",
     "output_type": "stream",
     "text": [
      "[[189   0   0   0   0   0   2   5   4   1   0   0   2   3   1   0   1   1\n",
      "    0  38]\n",
      " [  0 185   0  16  24   4   8   1   0   0   0   2   7   3   0   0   0   0\n",
      "    0   0]\n",
      " [  0  24  14 135  21  42   9   3   0   0   0   0  11   2   0   0   0   0\n",
      "    0   0]\n",
      " [  0   2   0 221  18   1   6   0   0   0   0   0   1   0   0   0   0   0\n",
      "    0   0]\n",
      " [  0   4   1  12 231   1   6   0   0   0   0   0   0   0   0   0   0   0\n",
      "    0   0]\n",
      " [  0  26   1  13   8 205   3   2   0   0   0   1   6   0   3   0   0   1\n",
      "    0   0]\n",
      " [  0   1   0   1   4   0 206   8   2   1   0   0   3   0   0   0   0   0\n",
      "    0   1]\n",
      " [  0   0   0   1   1   0  10 227   9   1   0   0   8   0   0   0   0   0\n",
      "    0   0]\n",
      " [  0   1   0   0   0   0   5   8 236   1   0   0   0   0   0   0   0   0\n",
      "    0   0]\n",
      " [  0   0   0   0   0   0   1   3   7 214   8   0   0   0   1   0   0   0\n",
      "    0   0]\n",
      " [  0   0   0   0   1   0   1   6   4  51 186   0   1   0   1   0   0   0\n",
      "    1   0]\n",
      " [  1   0   0   1   0   2   0   0   0   0   0 248   8   3   0   0   2   0\n",
      "    0   0]\n",
      " [  0   3   0   4   5   0   8   5   0   0   0   0 219   1   2   0   0   0\n",
      "    0   0]\n",
      " [  0   2   0   0   2   0   1   5   2   0   0   0  11 227   1   0   0   0\n",
      "    2   0]\n",
      " [  0   4   0   1   0   1   1   0   2   0   1   2  15   1 220   0   0   0\n",
      "    1   0]\n",
      " [  0   0   0   0   0   0   2   0   0   0   0   0   1   0   0 236   0   0\n",
      "    0   0]\n",
      " [  0   0   0   0   0   0   0   1   5   0   0   1   0   0   1   0 222   1\n",
      "    8   9]\n",
      " [  0   0   0   0   3   0   3   4   1   1   0   1   1   0   1   0   9 211\n",
      "   21   3]\n",
      " [  0   0   0   0   0   0   2   1   0   0   1   1   0   0   6   1  38   7\n",
      "  178  26]\n",
      " [ 46   0   0   0   0   0   5   0   1   0   0   0   1   0   1   1  15   2\n",
      "   19 136]]\n",
      "             precision    recall  f1-score   support\n",
      "\n",
      "        0.0       0.80      0.77      0.78       247\n",
      "        1.0       0.73      0.74      0.74       250\n",
      "        2.0       0.88      0.05      0.10       261\n",
      "        3.0       0.55      0.89      0.68       249\n",
      "        4.0       0.73      0.91      0.81       255\n",
      "        5.0       0.80      0.76      0.78       269\n",
      "        6.0       0.74      0.91      0.81       227\n",
      "        7.0       0.81      0.88      0.85       257\n",
      "        8.0       0.86      0.94      0.90       251\n",
      "        9.0       0.79      0.91      0.85       234\n",
      "       10.0       0.95      0.74      0.83       252\n",
      "       11.0       0.97      0.94      0.95       265\n",
      "       12.0       0.74      0.89      0.81       247\n",
      "       13.0       0.95      0.90      0.92       253\n",
      "       14.0       0.92      0.88      0.90       249\n",
      "       15.0       0.99      0.99      0.99       239\n",
      "       16.0       0.77      0.90      0.83       248\n",
      "       17.0       0.95      0.81      0.88       259\n",
      "       18.0       0.77      0.68      0.73       261\n",
      "       19.0       0.64      0.60      0.62       227\n",
      "\n",
      "avg / total       0.82      0.80      0.79      5000\n",
      "\n"
     ]
    }
   ],
   "source": [
    "print(confusion_matrix(Y_test, Y_pred_inbuilt))\n",
    "print(classification_report(Y_test, Y_pred_inbuilt))"
   ]
  }
 ],
 "metadata": {
  "kernelspec": {
   "display_name": "Python 3",
   "language": "python",
   "name": "python3"
  },
  "language_info": {
   "codemirror_mode": {
    "name": "ipython",
    "version": 3
   },
   "file_extension": ".py",
   "mimetype": "text/x-python",
   "name": "python",
   "nbconvert_exporter": "python",
   "pygments_lexer": "ipython3",
   "version": "3.7.1"
  }
 },
 "nbformat": 4,
 "nbformat_minor": 2
}
